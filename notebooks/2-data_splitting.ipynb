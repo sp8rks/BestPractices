{
 "cells": [
  {
   "cell_type": "markdown",
   "metadata": {},
   "source": [
    "# Splitting data into the train/validation/test dataset"
   ]
  },
  {
   "cell_type": "markdown",
   "metadata": {},
   "source": [
    "It is important to split your full dataset into train/validation/test datasets, and reliably use the same datasets for your modeling tasks later.\n",
    "\n",
    "Using different train/validation/test splits can dramatically affect your model performance (as seen here by the variance in $r^2$ scores for 30 models which have been trained on 30 different dataset splits) [1]:\n",
    "\n",
    "<div>\n",
    "<img src=\"./images/Fig1_30_splits.png\" width=\"500\"/>\n",
    "</div>\n",
    "\n",
    "[1]: C. Clement, S. K. Kauwe, T. D. Sparks, Benchmark AFLOW Data Sets for Machine Learning, figshare 2020, DOI: [10.6084/m9.figshare.11954742](https://dx.doi.org/10.6084/m9.figshare.11954742)."
   ]
  },
  {
   "cell_type": "code",
   "execution_count": 1,
   "metadata": {},
   "outputs": [],
   "source": [
    "import os\n",
    "import numpy as np\n",
    "import pandas as pd\n",
    "import matplotlib.pyplot as plt\n",
    "%matplotlib inline\n",
    "%config InlineBackend.figure_format='retina'\n",
    "\n",
    "from sklearn.model_selection import train_test_split\n",
    "\n",
    "# Set a random seed to ensure reproducibility across runs\n",
    "RNG_SEED = 42\n",
    "np.random.seed(seed=RNG_SEED)"
   ]
  },
  {
   "cell_type": "markdown",
   "metadata": {},
   "source": [
    "## Load the pre-processed dataset\n",
    "\n",
    "We will start with the processed dataset that we saved from the last notebook."
   ]
  },
  {
   "cell_type": "code",
   "execution_count": 2,
   "metadata": {},
   "outputs": [
    {
     "name": "stdout",
     "output_type": "stream",
     "text": [
      "Full DataFrame shape: (4547, 3)\n"
     ]
    }
   ],
   "source": [
    "PATH = os.getcwd()\n",
    "data_path = os.path.join(PATH, '../data/cp_data_cleaned.csv')\n",
    "\n",
    "df = pd.read_csv(data_path)\n",
    "print(f'Full DataFrame shape: {df.shape}')"
   ]
  },
  {
   "cell_type": "code",
   "execution_count": 3,
   "metadata": {},
   "outputs": [
    {
     "data": {
      "text/html": [
       "<div>\n",
       "<style scoped>\n",
       "    .dataframe tbody tr th:only-of-type {\n",
       "        vertical-align: middle;\n",
       "    }\n",
       "\n",
       "    .dataframe tbody tr th {\n",
       "        vertical-align: top;\n",
       "    }\n",
       "\n",
       "    .dataframe thead th {\n",
       "        text-align: right;\n",
       "    }\n",
       "</style>\n",
       "<table border=\"1\" class=\"dataframe\">\n",
       "  <thead>\n",
       "    <tr style=\"text-align: right;\">\n",
       "      <th></th>\n",
       "      <th>formula</th>\n",
       "      <th>T</th>\n",
       "      <th>Cp</th>\n",
       "    </tr>\n",
       "  </thead>\n",
       "  <tbody>\n",
       "    <tr>\n",
       "      <th>0</th>\n",
       "      <td>B2O3</td>\n",
       "      <td>1400.0</td>\n",
       "      <td>134.306</td>\n",
       "    </tr>\n",
       "    <tr>\n",
       "      <th>1</th>\n",
       "      <td>B2O3</td>\n",
       "      <td>1300.0</td>\n",
       "      <td>131.294</td>\n",
       "    </tr>\n",
       "    <tr>\n",
       "      <th>2</th>\n",
       "      <td>B2O3</td>\n",
       "      <td>1200.0</td>\n",
       "      <td>128.072</td>\n",
       "    </tr>\n",
       "    <tr>\n",
       "      <th>3</th>\n",
       "      <td>B2O3</td>\n",
       "      <td>1100.0</td>\n",
       "      <td>124.516</td>\n",
       "    </tr>\n",
       "    <tr>\n",
       "      <th>4</th>\n",
       "      <td>B2O3</td>\n",
       "      <td>1000.0</td>\n",
       "      <td>120.625</td>\n",
       "    </tr>\n",
       "    <tr>\n",
       "      <th>5</th>\n",
       "      <td>B2O3</td>\n",
       "      <td>900.0</td>\n",
       "      <td>116.190</td>\n",
       "    </tr>\n",
       "    <tr>\n",
       "      <th>6</th>\n",
       "      <td>B2O3</td>\n",
       "      <td>800.0</td>\n",
       "      <td>111.169</td>\n",
       "    </tr>\n",
       "    <tr>\n",
       "      <th>7</th>\n",
       "      <td>B2O3</td>\n",
       "      <td>723.0</td>\n",
       "      <td>106.692</td>\n",
       "    </tr>\n",
       "    <tr>\n",
       "      <th>8</th>\n",
       "      <td>B2O3</td>\n",
       "      <td>700.0</td>\n",
       "      <td>105.228</td>\n",
       "    </tr>\n",
       "    <tr>\n",
       "      <th>9</th>\n",
       "      <td>B2O3</td>\n",
       "      <td>600.0</td>\n",
       "      <td>98.115</td>\n",
       "    </tr>\n",
       "  </tbody>\n",
       "</table>\n",
       "</div>"
      ],
      "text/plain": [
       "  formula       T       Cp\n",
       "0    B2O3  1400.0  134.306\n",
       "1    B2O3  1300.0  131.294\n",
       "2    B2O3  1200.0  128.072\n",
       "3    B2O3  1100.0  124.516\n",
       "4    B2O3  1000.0  120.625\n",
       "5    B2O3   900.0  116.190\n",
       "6    B2O3   800.0  111.169\n",
       "7    B2O3   723.0  106.692\n",
       "8    B2O3   700.0  105.228\n",
       "9    B2O3   600.0   98.115"
      ]
     },
     "execution_count": 3,
     "metadata": {},
     "output_type": "execute_result"
    }
   ],
   "source": [
    "df.head(10)"
   ]
  },
  {
   "cell_type": "markdown",
   "metadata": {},
   "source": [
    "## Separate the DataFrame into your input variables ($X$) and target variables ($y$)\n",
    "\n",
    "The $X$ will be used as the input data, and $y$ will be used as the prediction targets for your ML model.\n",
    "\n",
    "If your target variables are discrete (such as `metal`/`non-metal` or types of crystal structures), then you will be performing a classification task.\n",
    "In our case, since our target variables are continuous values (heat capacity), we are performing a regression task."
   ]
  },
  {
   "cell_type": "code",
   "execution_count": 4,
   "metadata": {},
   "outputs": [
    {
     "name": "stdout",
     "output_type": "stream",
     "text": [
      "Shape of X: (4547, 2)\n",
      "Shape of y: (4547,)\n"
     ]
    }
   ],
   "source": [
    "X = df[['formula', 'T']]\n",
    "y = df['Cp']\n",
    "\n",
    "print(f'Shape of X: {X.shape}')\n",
    "print(f'Shape of y: {y.shape}')"
   ]
  },
  {
   "cell_type": "markdown",
   "metadata": {},
   "source": [
    "## Splitting data (and a word of caution)\n",
    "### Normally, we could simply split the data with a simple `sklearn` function\n",
    "\n",
    "The scikit-learn `train_test_split` function randomly splits a dataset into train and test datasets.\n",
    "Typically, you can use `train_test_split` to first split your data into \"train\" and \"test\" datasets, and then use the function again to split your \"train\" data into \"train\" and \"validation\" dataset splits.\n",
    "\n",
    "As a rule of thumb, you can roughly aim for the following dataset proportions when splitting your data:\n",
    "\n",
    "| | train split | validation split | test split |\n",
    "| --- | --- | --- | --- |\n",
    "| proportion<br> of original<br> dataset | 50% to 70% | 20% to 30% | 10% to 20% |\n",
    "\n",
    "If you have copious amounts of data, it may suffice to train your models on just 50% of the data; that way, you have a larger amount of data samples to validate and to test with.\n",
    "If you however have a smaller dataset and thus very few training samples for your models, you may wish to increase your proportion of training data during dataset splitting."
   ]
  },
  {
   "cell_type": "code",
   "execution_count": 5,
   "metadata": {},
   "outputs": [
    {
     "name": "stdout",
     "output_type": "stream",
     "text": [
      "(3637, 2)\n",
      "(910, 2)\n"
     ]
    }
   ],
   "source": [
    "X_train, X_test, y_train, y_test = train_test_split(X, y, test_size=0.20, random_state=RNG_SEED)\n",
    "\n",
    "print(X_train.shape)\n",
    "print(X_test.shape)"
   ]
  },
  {
   "cell_type": "markdown",
   "metadata": {},
   "source": [
    "### But wait, what's wrong here?\n",
    "\n",
    "We have to make sure that our dataset splits contain mutually exclusive formulae (e.g., all the data samples associated with \"Al2O3\" is *either* in the train, validation, or test dataset, but *not in multiple*)!"
   ]
  },
  {
   "cell_type": "code",
   "execution_count": 6,
   "metadata": {},
   "outputs": [
    {
     "name": "stdout",
     "output_type": "stream",
     "text": [
      "There are in total 3637 rows in the X_train DataFrame.\n",
      "But there are only 244 unique formulae!\n",
      "\n",
      "Unique formulae and their number of occurances in the X_train DataFrame:\n",
      "formula\n",
      "W1       39\n",
      "N1Ti1    34\n",
      "B1Ti1    33\n",
      "N1Zr1    33\n",
      "O2Zr1    31\n",
      "         ..\n",
      "Rb1       3\n",
      "I4Si1     3\n",
      "N2O4      3\n",
      "I4Ti1     2\n",
      "K1        2\n",
      "Name: count, Length: 244, dtype: int64 \n",
      "\n",
      "Unique formulae and their number of occurances in the X_test DataFrame:\n",
      "formula\n",
      "N0.465V1    11\n",
      "Be2O4Si1    10\n",
      "N1Ti1       10\n",
      "Fe1         10\n",
      "W1          10\n",
      "            ..\n",
      "Br1K1        1\n",
      "C1Na2O3      1\n",
      "Ni3S4        1\n",
      "I4Mo1        1\n",
      "Fe1H3O3      1\n",
      "Name: count, Length: 236, dtype: int64\n"
     ]
    }
   ],
   "source": [
    "num_rows = len(X_train)\n",
    "print(f'There are in total {num_rows} rows in the X_train DataFrame.')\n",
    "\n",
    "num_unique_formulae = len(X_train['formula'].unique())\n",
    "print(f'But there are only {num_unique_formulae} unique formulae!\\n')\n",
    "\n",
    "print('Unique formulae and their number of occurances in the X_train DataFrame:')\n",
    "print(X_train['formula'].value_counts(), '\\n')\n",
    "print('Unique formulae and their number of occurances in the X_test DataFrame:')\n",
    "print(X_test['formula'].value_counts())"
   ]
  },
  {
   "cell_type": "markdown",
   "metadata": {},
   "source": [
    "There are in total 3651 rows in the X_train DataFrame. But there are only 244 unique formulae!\n",
    "In fact, you will see that the same formulae are often present in the X_train and X_test DataFrames!\n",
    "\n",
    "That's not good, because now we have instances of the same chemical compound appearing in *both* the training and test data. Which means the model can cheat and in essence just memorize the training data, and during testing, look up the nearby values present in the training data!\n",
    "\n",
    "So how do we mitigate this?\n",
    "\n",
    "### Be aware of leaking data between datasets\n",
    "\n",
    "We have to first group the data by chemical formula, then split the data according to the chemical formulae. That way, all data points associated with each formula are either in the training dataset or in the test dataset, *but not in both at the same time*."
   ]
  },
  {
   "cell_type": "markdown",
   "metadata": {},
   "source": [
    "## Splitting data, cautiously (manually)\n",
    "\n",
    "First we get a list of all of the unique formulae in the dataset."
   ]
  },
  {
   "cell_type": "code",
   "execution_count": 7,
   "metadata": {},
   "outputs": [
    {
     "name": "stdout",
     "output_type": "stream",
     "text": [
      "244 unique formulae:\n",
      "['B2O3' 'Be1I2' 'Be1F3Li1' 'Al1Cl4K1' 'Al2Be1O4' 'B2H4O4' 'B2Mg1' 'Be1F2'\n",
      " 'B1H4Na1' 'Br2Ca1' 'Al1N1' 'Al1Cl6Na3' 'Ba1H2O2' 'Al1Br3' 'Br3Zr1'\n",
      " 'Br2Ti1' 'B1Ti1' 'Be2O4Si1' 'Br2Pb1' 'Al1' 'Br2Hg2' 'B1H3O3' 'Br3Ti1'\n",
      " 'C1Cu1N1' 'B1' 'Al1F6Na3' 'Ca1H2O2' 'B2Be3O6' 'Al1Cl4Na1' 'Al1Cl6K3'\n",
      " 'C0.98Nb1' 'Br2Hg1' 'Al1Cl1O1' 'Cl1H4N1O4' 'Be1F4Li2' 'C1Mg1O3' 'Br1H4N1'\n",
      " 'Ca1I2' 'Al1F6Li3' 'Br4Mo1' 'Ba1' 'Br4Ti1' 'Ba1Br2' 'Be1O4S1' 'Ba1F2'\n",
      " 'Ba1I2' 'Cl2Fe1' 'C1K1N1' 'Be1H2O2' 'Cs1' 'Al1H4Li1' 'C1Be2' 'Cr1'\n",
      " 'Cs2O4S1' 'Cl1Cu1' 'Cu1F2' 'Al2O3' 'B1N1' 'Co1O4S1' 'Cu1O1' 'Br1Na1'\n",
      " 'Cr2O3' 'Cs1F1' 'Cr2N1' 'Cl1Li1' 'Fe0.877S1' 'Cl1Na1' 'F2Hg1' 'Fe1H2O2'\n",
      " 'Cs1H1O1' 'Br3Mo1' 'Br2Sr1' 'Cl2Hg2' 'Fe1O1' 'Co1' 'Cl1Cs1' 'Cu1H2O2'\n",
      " 'Al1Li1O2' 'Co1F2' 'Br2Fe1' 'Fe1I2' 'Ga1' 'Cl1Li1O4' 'Cl2Cu1' 'Fe0.947O1'\n",
      " 'Be1Cl2' 'Cl1K1' 'F1Na1' 'H3O4P1' 'Fe3O4' 'H1Na1O1' 'Fe2O12S3' 'H1Na1'\n",
      " 'Cl1Na1O4' 'B1F4K1' 'Cu1O4S1' 'H1Li1' 'F2H1K1' 'B1H4Li1' 'Hg1O1' 'Be3N2'\n",
      " 'Fe1' 'I2Mo1' 'Cu1F1' 'Cr1N1' 'Fe1H3O3' 'I1Li1' 'Al1I3' 'Fe1S1'\n",
      " 'Al2Cl9K3' 'I2Pb1' 'I4Zr1' 'Hg1I2' 'H4I1N1' 'Hf1' 'F2Hg2' 'I2Sr1'\n",
      " 'C1K2O3' 'C1N1Na1' 'H2O4W1' 'Ca1S1' 'K2O4S1' 'I2Mg1' 'Mg1O3Si1' 'Li3N1'\n",
      " 'I2Zr1' 'H2Mg1' 'I2Ti1' 'H1K1' 'Mg1O4W1' 'I4Ti1' 'H1K1O1' 'I2' 'Mn1'\n",
      " 'F1K1' 'Li2O3Si1' 'K2O1' 'Mg1O4S1' 'Al1Na1O2' 'Mo1O2.889' 'Mo1O2.750'\n",
      " 'N0.465V1' 'Mg2O4Ti1' 'K1O2' 'Mo1O3' 'C1Na2O3' 'K2S1' 'Mo1S2' 'Li2O3Ti1'\n",
      " 'I4Mo1' 'Ba1S1' 'Na2O3Si1' 'I3Mo1' 'Mg1S1' 'Cu2O5S1' 'K2O2' 'Mg1O3Ti1'\n",
      " 'Na2S2' 'I3Ti1' 'Li2O2' 'I3Zr1' 'Al2Mg1O4' 'N1Ti1' 'N1V1' 'Na1O2' 'Ni1S1'\n",
      " 'Na2O1' 'I4Si1' 'B1Li1O2' 'O1Ti1' 'H1Li1O1' 'Nb1O1' 'F2Mg1' 'Nb1' 'O3Ti2'\n",
      " 'Ca1' 'Nb1O2' 'O3Pb1Si1' 'O4Pb3' 'O3W1' 'O7Ti4' 'K1' 'O4V2' 'O2.90W1'\n",
      " 'Ca1Cl2' 'Pb1' 'Na2O5Si2' 'O5Ti3' 'O5V2' 'Mg3N2' 'Mg2O4Si1' 'Mo1O2.875'\n",
      " 'Br1K1' 'Br2Mo1' 'Cl1H4N1' 'Cu1' 'F1Li1' 'Fe1S2' 'H2O2Sr1' 'I1K1' 'I1Na1'\n",
      " 'K2O3Si1' 'Li2O4S1' 'Li2O5Si2' 'Mg1' 'Mg2Si1' 'Mo2S3' 'N1Zr1' 'N2O4'\n",
      " 'N4Si3' 'N5P3' 'Na2O2' 'Na2S1' 'Nb2O5' 'Ni1' 'Ni1S2' 'Ni3S2' 'Ni3S4'\n",
      " 'O10P4' 'O1Pb1' 'O1Sr1' 'O1V1' 'O2.72W1' 'O2.96W1' 'O2Pb1' 'O2Si1'\n",
      " 'O2Ti1' 'O2Zr1' 'O3V2' 'O4Pb2Si1' 'O4S1Zn1' 'O4Si1Zr1' 'P1' 'P4S3'\n",
      " 'Pb1S1' 'Rb1' 'S1' 'S1Sr1' 'Sr1' 'Ti1' 'V1' 'W1' 'Zn1' 'Zr1']\n"
     ]
    }
   ],
   "source": [
    "unique_formulae = X['formula'].unique()\n",
    "print(f'{len(unique_formulae)} unique formulae:\\n{unique_formulae}')"
   ]
  },
  {
   "cell_type": "code",
   "execution_count": 8,
   "metadata": {},
   "outputs": [
    {
     "name": "stdout",
     "output_type": "stream",
     "text": [
      "Number of training formulae: 171\n",
      "Number of validation formulae: 49\n",
      "Number of testing formulae: 24\n"
     ]
    }
   ],
   "source": [
    "# Set a random seed to ensure reproducibility across runs\n",
    "np.random.seed(seed=RNG_SEED)\n",
    "\n",
    "# Store a list of all unique formulae\n",
    "all_formulae = unique_formulae.copy()\n",
    "\n",
    "# Define the proportional size of the dataset split\n",
    "val_size = 0.20\n",
    "test_size = 0.10\n",
    "train_size = 1 - val_size - test_size\n",
    "\n",
    "# Calculate the number of samples in each dataset split\n",
    "num_val_samples = int(round(val_size * len(unique_formulae)))\n",
    "num_test_samples = int(round(test_size * len(unique_formulae)))\n",
    "num_train_samples = int(round((1 - val_size - test_size) * len(unique_formulae)))\n",
    "\n",
    "# Randomly choose the formulate for the validation dataset, and remove those from the unique formulae list\n",
    "val_formulae = np.random.choice(all_formulae, size=num_val_samples, replace=False)\n",
    "all_formulae = [f for f in all_formulae if f not in val_formulae]\n",
    "\n",
    "# Randomly choose the formulate for the test dataset, and remove those from the unique formulae list\n",
    "test_formulae = np.random.choice(all_formulae, size=num_test_samples, replace=False)\n",
    "all_formulae = [f for f in all_formulae if f not in test_formulae]\n",
    "\n",
    "# The remaining formulae will be used for the training dataset\n",
    "train_formulae = all_formulae.copy()\n",
    "\n",
    "print('Number of training formulae:', len(train_formulae))\n",
    "print('Number of validation formulae:', len(val_formulae))\n",
    "print('Number of testing formulae:', len(test_formulae))"
   ]
  },
  {
   "cell_type": "code",
   "execution_count": 9,
   "metadata": {},
   "outputs": [
    {
     "name": "stdout",
     "output_type": "stream",
     "text": [
      "train dataset shape: (3203, 3)\n",
      "validation dataset shape: (976, 3)\n",
      "test dataset shape: (368, 3)\n",
      "\n",
      "  formula       T       Cp\n",
      "0    B2O3  1400.0  134.306\n",
      "1    B2O3  1300.0  131.294\n",
      "2    B2O3  1200.0  128.072\n",
      "3    B2O3  1100.0  124.516\n",
      "4    B2O3  1000.0  120.625 \n",
      "\n",
      "   formula       T      Cp\n",
      "82   B2Mg1  1900.0  92.242\n",
      "83   B2Mg1  1800.0  90.249\n",
      "84   B2Mg1  1700.0  88.162\n",
      "85   B2Mg1  1600.0  85.981\n",
      "86   B2Mg1  1500.0  83.643 \n",
      "\n",
      "     formula       T       Cp\n",
      "191  Ba1H2O2  900.00  134.892\n",
      "192  Ba1H2O2  800.00  130.834\n",
      "193  Ba1H2O2  700.00  126.775\n",
      "194  Ba1H2O2  681.15  126.022\n",
      "195  Ba1H2O2  600.00  122.717 \n",
      "\n"
     ]
    }
   ],
   "source": [
    "# Split the original dataset into the train/validation/test datasets using the formulae lists above\n",
    "df_train = df[df['formula'].isin(train_formulae)]\n",
    "df_val = df[df['formula'].isin(val_formulae)]\n",
    "df_test = df[df['formula'].isin(test_formulae)]\n",
    "\n",
    "print(f'train dataset shape: {df_train.shape}')\n",
    "print(f'validation dataset shape: {df_val.shape}')\n",
    "print(f'test dataset shape: {df_test.shape}\\n')\n",
    "\n",
    "print(df_train.head(), '\\n')\n",
    "print(df_val.head(), '\\n')\n",
    "print(df_test.head(), '\\n')"
   ]
  },
  {
   "cell_type": "markdown",
   "metadata": {},
   "source": [
    "To be sure that we really only have mutually exclusive formulae within each of the datasets (e.g., all the data samples associated with \"Al2O3\" is *either* in the train, validation, or test dataset, but *not in multiple*), we can do the following to check:"
   ]
  },
  {
   "cell_type": "code",
   "execution_count": 10,
   "metadata": {},
   "outputs": [
    {
     "name": "stdout",
     "output_type": "stream",
     "text": [
      "# of common formulae in intersection 1: 0; common formulae: set()\n",
      "# of common formulae in intersection 2: 0; common formulae: set()\n",
      "# of common formulae in intersection 3: 0; common formulae: set()\n"
     ]
    }
   ],
   "source": [
    "train_formulae = set(df_train['formula'].unique())\n",
    "val_formulae = set(df_val['formula'].unique())\n",
    "test_formulae = set(df_test['formula'].unique())\n",
    "\n",
    "common_formulae1 = train_formulae.intersection(test_formulae)\n",
    "common_formulae2 = train_formulae.intersection(val_formulae)\n",
    "common_formulae3 = test_formulae.intersection(val_formulae)\n",
    "\n",
    "print(f'# of common formulae in intersection 1: {len(common_formulae1)}; common formulae: {common_formulae1}')\n",
    "print(f'# of common formulae in intersection 2: {len(common_formulae2)}; common formulae: {common_formulae2}')\n",
    "print(f'# of common formulae in intersection 3: {len(common_formulae3)}; common formulae: {common_formulae3}')"
   ]
  },
  {
   "cell_type": "markdown",
   "metadata": {},
   "source": [
    "## Save split datasets to csv\n",
    "\n",
    "Finally, after splitting the dataset into train/validation/test dataset splits, you can save them to disk for you to use later.\n",
    "\n",
    "By saving these dataset splits into files, you can then later reproducibly use these same exact splits during your subsequent model training and comparison steps.\n",
    "Use the same datasets for all your models---that way, you can ensure a fair comparison.\n",
    "\n",
    "Also, when you publish your results, you can include these dataset splits, so that others can use the exact datasets in their own studies."
   ]
  },
  {
   "cell_type": "code",
   "execution_count": 11,
   "metadata": {},
   "outputs": [],
   "source": [
    "# saving these splits into csv files\n",
    "PATH = os.getcwd()\n",
    "\n",
    "train_path = os.path.join(PATH, '../data/cp_train.csv')\n",
    "val_path = os.path.join(PATH, '../data/cp_val.csv')\n",
    "test_path = os.path.join(PATH, '../data/cp_test.csv')\n",
    "\n",
    "df_train.to_csv(train_path, index=False)\n",
    "df_val.to_csv(val_path, index=False)\n",
    "df_test.to_csv(test_path, index=False)"
   ]
  },
  {
   "cell_type": "markdown",
   "metadata": {},
   "source": [
    "Remember, keep the test dataset locked away and forget about it until you have finalized your model!\n",
    "**Never look at the test dataset!!** "
   ]
  }
 ],
 "metadata": {
  "kernelspec": {
   "display_name": "Python 3 (ipykernel)",
   "language": "python",
   "name": "python3"
  },
  "language_info": {
   "codemirror_mode": {
    "name": "ipython",
    "version": 3
   },
   "file_extension": ".py",
   "mimetype": "text/x-python",
   "name": "python",
   "nbconvert_exporter": "python",
   "pygments_lexer": "ipython3",
   "version": "3.8.18"
  }
 },
 "nbformat": 4,
 "nbformat_minor": 4
}
